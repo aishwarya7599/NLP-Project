{
  "nbformat": 4,
  "nbformat_minor": 0,
  "metadata": {
    "colab": {
      "provenance": [],
      "authorship_tag": "ABX9TyPhbZpUdqOLY2pHUT2XkPbY",
      "include_colab_link": true
    },
    "kernelspec": {
      "name": "python3",
      "display_name": "Python 3"
    },
    "language_info": {
      "name": "python"
    }
  },
  "cells": [
    {
      "cell_type": "markdown",
      "metadata": {
        "id": "view-in-github",
        "colab_type": "text"
      },
      "source": [
        "<a href=\"https://colab.research.google.com/github/aishwarya7599/NLP-Project/blob/main/Hugging_Face.ipynb\" target=\"_parent\"><img src=\"https://colab.research.google.com/assets/colab-badge.svg\" alt=\"Open In Colab\"/></a>"
      ]
    },
    {
      "cell_type": "code",
      "execution_count": null,
      "metadata": {
        "id": "6u6k4IJGmh2c"
      },
      "outputs": [],
      "source": [
        "from transformers import pipeline\n",
        "\n",
        "xx=pipeline(task=\"text-generation\", model=\"openai-community/gpt2\")\n",
        "res=xx(\"What if i slept\", max_new_tokens=50, num_return_sequences=3)\n",
        "for r in res:\n",
        "    print(r)"
      ]
    }
  ]
}